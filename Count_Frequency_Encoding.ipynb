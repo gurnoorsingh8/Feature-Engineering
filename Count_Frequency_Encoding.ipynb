{
  "nbformat": 4,
  "nbformat_minor": 0,
  "metadata": {
    "colab": {
      "name": "Count/Frequency_Encoding.ipynb",
      "provenance": []
    },
    "kernelspec": {
      "name": "python3",
      "display_name": "Python 3"
    }
  },
  "cells": [
    {
      "cell_type": "markdown",
      "metadata": {
        "id": "n7mmrzisow24"
      },
      "source": [
        "# Count or Frequency Encoding"
      ]
    },
    {
      "cell_type": "markdown",
      "metadata": {
        "id": "jM9rg66u_o4g"
      },
      "source": [
        "Applied to the features where we have higher number of labels (High Cardinality)\n",
        "In this Encoding Method, we replace each label of the categorical variable by the count\n",
        "\n",
        "It Prevents the Curse Of Dimensionality"
      ]
    },
    {
      "cell_type": "code",
      "metadata": {
        "id": "Tt23ynTeowN6"
      },
      "source": [
        "import pandas as pd\n",
        "import numpy as np"
      ],
      "execution_count": 16,
      "outputs": []
    },
    {
      "cell_type": "code",
      "metadata": {
        "id": "XYnphAqUovHu",
        "colab": {
          "base_uri": "https://localhost:8080/",
          "height": 348
        },
        "outputId": "a955f99a-b486-45d0-950f-236430c58f96"
      },
      "source": [
        "#We can download our dataset from the link below\n",
        "#https://www.kaggle.com/c/mercedes-benz-greener-manufacturing/data?select=train.csv.zip\n",
        "dataset = pd.read_csv(\"drive/MyDrive/Data/mercedesbenz.csv\", usecols=['X1','X2'])\n",
        "dataset.head(10)"
      ],
      "execution_count": 17,
      "outputs": [
        {
          "output_type": "execute_result",
          "data": {
            "text/html": [
              "<div>\n",
              "<style scoped>\n",
              "    .dataframe tbody tr th:only-of-type {\n",
              "        vertical-align: middle;\n",
              "    }\n",
              "\n",
              "    .dataframe tbody tr th {\n",
              "        vertical-align: top;\n",
              "    }\n",
              "\n",
              "    .dataframe thead th {\n",
              "        text-align: right;\n",
              "    }\n",
              "</style>\n",
              "<table border=\"1\" class=\"dataframe\">\n",
              "  <thead>\n",
              "    <tr style=\"text-align: right;\">\n",
              "      <th></th>\n",
              "      <th>X1</th>\n",
              "      <th>X2</th>\n",
              "    </tr>\n",
              "  </thead>\n",
              "  <tbody>\n",
              "    <tr>\n",
              "      <th>0</th>\n",
              "      <td>v</td>\n",
              "      <td>at</td>\n",
              "    </tr>\n",
              "    <tr>\n",
              "      <th>1</th>\n",
              "      <td>t</td>\n",
              "      <td>av</td>\n",
              "    </tr>\n",
              "    <tr>\n",
              "      <th>2</th>\n",
              "      <td>w</td>\n",
              "      <td>n</td>\n",
              "    </tr>\n",
              "    <tr>\n",
              "      <th>3</th>\n",
              "      <td>t</td>\n",
              "      <td>n</td>\n",
              "    </tr>\n",
              "    <tr>\n",
              "      <th>4</th>\n",
              "      <td>v</td>\n",
              "      <td>n</td>\n",
              "    </tr>\n",
              "    <tr>\n",
              "      <th>5</th>\n",
              "      <td>b</td>\n",
              "      <td>e</td>\n",
              "    </tr>\n",
              "    <tr>\n",
              "      <th>6</th>\n",
              "      <td>r</td>\n",
              "      <td>e</td>\n",
              "    </tr>\n",
              "    <tr>\n",
              "      <th>7</th>\n",
              "      <td>l</td>\n",
              "      <td>as</td>\n",
              "    </tr>\n",
              "    <tr>\n",
              "      <th>8</th>\n",
              "      <td>s</td>\n",
              "      <td>as</td>\n",
              "    </tr>\n",
              "    <tr>\n",
              "      <th>9</th>\n",
              "      <td>b</td>\n",
              "      <td>aq</td>\n",
              "    </tr>\n",
              "  </tbody>\n",
              "</table>\n",
              "</div>"
            ],
            "text/plain": [
              "  X1  X2\n",
              "0  v  at\n",
              "1  t  av\n",
              "2  w   n\n",
              "3  t   n\n",
              "4  v   n\n",
              "5  b   e\n",
              "6  r   e\n",
              "7  l  as\n",
              "8  s  as\n",
              "9  b  aq"
            ]
          },
          "metadata": {
            "tags": []
          },
          "execution_count": 17
        }
      ]
    },
    {
      "cell_type": "code",
      "metadata": {
        "id": "78trtUmm4OnD"
      },
      "source": [
        "dataset.shape"
      ],
      "execution_count": null,
      "outputs": []
    },
    {
      "cell_type": "markdown",
      "metadata": {
        "id": "ZlgNz1kK4a26"
      },
      "source": [
        "This means we have 4209 rows of data and we are currently taking 2 categories"
      ]
    },
    {
      "cell_type": "markdown",
      "metadata": {
        "id": "OhDLNpIF5Zrx"
      },
      "source": [
        "We will not use One Hot Encoding here becuase it will add 69 more columns to our data so it is not advisable to use that"
      ]
    },
    {
      "cell_type": "markdown",
      "metadata": {
        "id": "vWqFdSYz5pj6"
      },
      "source": [
        "Instead we will use Count or Frequency Encoding"
      ]
    },
    {
      "cell_type": "code",
      "metadata": {
        "id": "nG4EJpAg5KAJ"
      },
      "source": [
        "#Now we will find how many unique labels are there in our 2 categories\n",
        "len(dataset['X1'].unique())"
      ],
      "execution_count": null,
      "outputs": []
    },
    {
      "cell_type": "code",
      "metadata": {
        "id": "zOrokuco6X9B"
      },
      "source": [
        "len(dataset['X2'].unique())"
      ],
      "execution_count": null,
      "outputs": []
    },
    {
      "cell_type": "code",
      "metadata": {
        "id": "eCInnTw76gpv"
      },
      "source": [
        "#Lets see how many unique label each X1 and X2 have\n",
        "for x in dataset.columns[0:]:\n",
        "  print(x, \":\", len(dataset[x].unique()))"
      ],
      "execution_count": null,
      "outputs": []
    },
    {
      "cell_type": "markdown",
      "metadata": {
        "id": "JB50cGBl8ikq"
      },
      "source": [
        "Let's see X2 labels with the number of times it appeared\n",
        "\n",
        "X2 label : Count"
      ]
    },
    {
      "cell_type": "code",
      "metadata": {
        "id": "cvbUl2Mf67-z"
      },
      "source": [
        "dataset.X2.value_counts().to_dict()"
      ],
      "execution_count": null,
      "outputs": []
    },
    {
      "cell_type": "code",
      "metadata": {
        "id": "e3nSL7Cz7Toa"
      },
      "source": [
        "dataset_freq = dataset.X2.value_counts().to_dict()"
      ],
      "execution_count": null,
      "outputs": []
    },
    {
      "cell_type": "markdown",
      "metadata": {
        "id": "UZFeO4YQ8YGr"
      },
      "source": [
        "Now we will Replace the X2 Labels with their Count Numbers"
      ]
    },
    {
      "cell_type": "code",
      "metadata": {
        "id": "btKvuu9r75OU"
      },
      "source": [
        "dataset.X2 = dataset.X2.map(dataset_freq)"
      ],
      "execution_count": null,
      "outputs": []
    },
    {
      "cell_type": "code",
      "metadata": {
        "id": "QTwr9VpT84TZ"
      },
      "source": [
        "dataset.head(10)"
      ],
      "execution_count": null,
      "outputs": []
    },
    {
      "cell_type": "markdown",
      "metadata": {
        "id": "vyhIFsDo-RH4"
      },
      "source": [
        "Lets talk about advantages and disadvantages"
      ]
    },
    {
      "cell_type": "markdown",
      "metadata": {
        "id": "vYDGBPCO-WRg"
      },
      "source": [
        "### Advantages\n",
        "*   It is very simple to implement\n",
        "*   It does not increase the feature dimension space\n",
        "\n",
        "### Disadvantages\n",
        "*   If 2 labels have same count, then they will replace with same count so they can loose some valuable information\n",
        "\n"
      ]
    }
  ]
}